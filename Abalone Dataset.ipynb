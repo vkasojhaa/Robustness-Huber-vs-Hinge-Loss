{
 "cells": [
  {
   "cell_type": "code",
   "execution_count": 176,
   "metadata": {},
   "outputs": [],
   "source": [
    "import numpy as np \n",
    "import pandas as pd \n",
    "import matplotlib.pyplot as plt \n",
    "import matplotlib.gridspec as gridspec \n",
    "import seaborn as sns\n",
    "import sys\n",
    "import time\n",
    "\n",
    "from sklearn.model_selection import train_test_split\n",
    "from sklearn.svm import SVC\n",
    "from sklearn.svm import LinearSVC  \n",
    "from sklearn.metrics import accuracy_score\n",
    "from sklearn.linear_model import SGDClassifier\n",
    "from sklearn.model_selection import cross_val_score\n",
    "\n",
    "from lightning.classification import FistaClassifier\n",
    "\n",
    "%matplotlib inline "
   ]
  },
  {
   "cell_type": "code",
   "execution_count": 177,
   "metadata": {},
   "outputs": [
    {
     "data": {
      "text/html": [
       "<div>\n",
       "<style>\n",
       "    .dataframe thead tr:only-child th {\n",
       "        text-align: right;\n",
       "    }\n",
       "\n",
       "    .dataframe thead th {\n",
       "        text-align: left;\n",
       "    }\n",
       "\n",
       "    .dataframe tbody tr th {\n",
       "        vertical-align: top;\n",
       "    }\n",
       "</style>\n",
       "<table border=\"1\" class=\"dataframe\">\n",
       "  <thead>\n",
       "    <tr style=\"text-align: right;\">\n",
       "      <th></th>\n",
       "      <th>sex</th>\n",
       "      <th>length</th>\n",
       "      <th>diameter</th>\n",
       "      <th>height</th>\n",
       "      <th>weight.w</th>\n",
       "      <th>weight.s</th>\n",
       "      <th>weight.v</th>\n",
       "      <th>weight.sh</th>\n",
       "      <th>rings</th>\n",
       "    </tr>\n",
       "  </thead>\n",
       "  <tbody>\n",
       "    <tr>\n",
       "      <th>0</th>\n",
       "      <td>M</td>\n",
       "      <td>0.455</td>\n",
       "      <td>0.365</td>\n",
       "      <td>0.095</td>\n",
       "      <td>0.5140</td>\n",
       "      <td>0.2245</td>\n",
       "      <td>0.1010</td>\n",
       "      <td>0.150</td>\n",
       "      <td>15</td>\n",
       "    </tr>\n",
       "    <tr>\n",
       "      <th>1</th>\n",
       "      <td>M</td>\n",
       "      <td>0.350</td>\n",
       "      <td>0.265</td>\n",
       "      <td>0.090</td>\n",
       "      <td>0.2255</td>\n",
       "      <td>0.0995</td>\n",
       "      <td>0.0485</td>\n",
       "      <td>0.070</td>\n",
       "      <td>7</td>\n",
       "    </tr>\n",
       "    <tr>\n",
       "      <th>2</th>\n",
       "      <td>F</td>\n",
       "      <td>0.530</td>\n",
       "      <td>0.420</td>\n",
       "      <td>0.135</td>\n",
       "      <td>0.6770</td>\n",
       "      <td>0.2565</td>\n",
       "      <td>0.1415</td>\n",
       "      <td>0.210</td>\n",
       "      <td>9</td>\n",
       "    </tr>\n",
       "    <tr>\n",
       "      <th>3</th>\n",
       "      <td>M</td>\n",
       "      <td>0.440</td>\n",
       "      <td>0.365</td>\n",
       "      <td>0.125</td>\n",
       "      <td>0.5160</td>\n",
       "      <td>0.2155</td>\n",
       "      <td>0.1140</td>\n",
       "      <td>0.155</td>\n",
       "      <td>10</td>\n",
       "    </tr>\n",
       "    <tr>\n",
       "      <th>4</th>\n",
       "      <td>I</td>\n",
       "      <td>0.330</td>\n",
       "      <td>0.255</td>\n",
       "      <td>0.080</td>\n",
       "      <td>0.2050</td>\n",
       "      <td>0.0895</td>\n",
       "      <td>0.0395</td>\n",
       "      <td>0.055</td>\n",
       "      <td>7</td>\n",
       "    </tr>\n",
       "  </tbody>\n",
       "</table>\n",
       "</div>"
      ],
      "text/plain": [
       "  sex  length  diameter  height  weight.w  weight.s  weight.v  weight.sh  \\\n",
       "0   M   0.455     0.365   0.095    0.5140    0.2245    0.1010      0.150   \n",
       "1   M   0.350     0.265   0.090    0.2255    0.0995    0.0485      0.070   \n",
       "2   F   0.530     0.420   0.135    0.6770    0.2565    0.1415      0.210   \n",
       "3   M   0.440     0.365   0.125    0.5160    0.2155    0.1140      0.155   \n",
       "4   I   0.330     0.255   0.080    0.2050    0.0895    0.0395      0.055   \n",
       "\n",
       "   rings  \n",
       "0     15  \n",
       "1      7  \n",
       "2      9  \n",
       "3     10  \n",
       "4      7  "
      ]
     },
     "execution_count": 177,
     "metadata": {},
     "output_type": "execute_result"
    }
   ],
   "source": [
    "df = pd.read_csv('Abalone.csv')\n",
    "df.head()"
   ]
  },
  {
   "cell_type": "code",
   "execution_count": 178,
   "metadata": {},
   "outputs": [],
   "source": [
    "#df.info()"
   ]
  },
  {
   "cell_type": "code",
   "execution_count": 179,
   "metadata": {},
   "outputs": [
    {
     "name": "stdout",
     "output_type": "stream",
     "text": [
      "sex\n",
      "F    1307\n",
      "I    1342\n",
      "M    1528\n",
      "dtype: int64\n"
     ]
    },
    {
     "data": {
      "image/png": "[encoded data removed]",
      "text/plain": [
       "<matplotlib.figure.Figure at 0x27b44d715f8>"
      ]
     },
     "metadata": {},
     "output_type": "display_data"
    }
   ],
   "source": [
    "print(df.groupby('sex').size())\n",
    "sns.countplot(df['sex'],label=\"Count\")\n",
    "plt.show()"
   ]
  },
  {
   "cell_type": "code",
   "execution_count": 180,
   "metadata": {},
   "outputs": [
    {
     "name": "stdout",
     "output_type": "stream",
     "text": [
      "test size: 418\n",
      "sex\n",
      "F    1181\n",
      "I    1208\n",
      "M    1370\n",
      "dtype: int64\n"
     ]
    }
   ],
   "source": [
    "test_per = int(len(df.index)*0.9) #actual is 0.1-0.9\n",
    "print(\"test size:\", int(len(df.index)- test_per))\n",
    "testdf = df[test_per:]\n",
    "df = df[:test_per]\n",
    "df.shape\n",
    "print(df.groupby('sex').size())"
   ]
  },
  {
   "cell_type": "code",
   "execution_count": 181,
   "metadata": {},
   "outputs": [
    {
     "name": "stderr",
     "output_type": "stream",
     "text": [
      "c:\\python35\\lib\\site-packages\\ipykernel_launcher.py:11: SettingWithCopyWarning: \n",
      "A value is trying to be set on a copy of a slice from a DataFrame\n",
      "\n",
      "See the caveats in the documentation: http://pandas.pydata.org/pandas-docs/stable/indexing.html#indexing-view-versus-copy\n",
      "  # This is added back by InteractiveShellApp.init_path()\n",
      "c:\\python35\\lib\\site-packages\\ipykernel_launcher.py:13: SettingWithCopyWarning: \n",
      "A value is trying to be set on a copy of a slice from a DataFrame\n",
      "\n",
      "See the caveats in the documentation: http://pandas.pydata.org/pandas-docs/stable/indexing.html#indexing-view-versus-copy\n",
      "  del sys.path[0]\n",
      "c:\\python35\\lib\\site-packages\\ipykernel_launcher.py:15: SettingWithCopyWarning: \n",
      "A value is trying to be set on a copy of a slice from a DataFrame\n",
      "\n",
      "See the caveats in the documentation: http://pandas.pydata.org/pandas-docs/stable/indexing.html#indexing-view-versus-copy\n",
      "  from ipykernel import kernelapp as app\n"
     ]
    },
    {
     "data": {
      "text/html": [
       "<div>\n",
       "<style>\n",
       "    .dataframe thead tr:only-child th {\n",
       "        text-align: right;\n",
       "    }\n",
       "\n",
       "    .dataframe thead th {\n",
       "        text-align: left;\n",
       "    }\n",
       "\n",
       "    .dataframe tbody tr th {\n",
       "        vertical-align: top;\n",
       "    }\n",
       "</style>\n",
       "<table border=\"1\" class=\"dataframe\">\n",
       "  <thead>\n",
       "    <tr style=\"text-align: right;\">\n",
       "      <th></th>\n",
       "      <th>sex</th>\n",
       "      <th>length</th>\n",
       "      <th>diameter</th>\n",
       "      <th>height</th>\n",
       "      <th>weight.w</th>\n",
       "      <th>weight.s</th>\n",
       "      <th>weight.v</th>\n",
       "      <th>weight.sh</th>\n",
       "      <th>rings</th>\n",
       "    </tr>\n",
       "  </thead>\n",
       "  <tbody>\n",
       "    <tr>\n",
       "      <th>0</th>\n",
       "      <td>F</td>\n",
       "      <td>0.455</td>\n",
       "      <td>0.365</td>\n",
       "      <td>0.095</td>\n",
       "      <td>0.5140</td>\n",
       "      <td>0.2245</td>\n",
       "      <td>0.1010</td>\n",
       "      <td>0.150</td>\n",
       "      <td>15</td>\n",
       "    </tr>\n",
       "    <tr>\n",
       "      <th>1</th>\n",
       "      <td>F</td>\n",
       "      <td>0.350</td>\n",
       "      <td>0.265</td>\n",
       "      <td>0.090</td>\n",
       "      <td>0.2255</td>\n",
       "      <td>0.0995</td>\n",
       "      <td>0.0485</td>\n",
       "      <td>0.070</td>\n",
       "      <td>7</td>\n",
       "    </tr>\n",
       "    <tr>\n",
       "      <th>2</th>\n",
       "      <td>M</td>\n",
       "      <td>0.530</td>\n",
       "      <td>0.420</td>\n",
       "      <td>0.135</td>\n",
       "      <td>0.6770</td>\n",
       "      <td>0.2565</td>\n",
       "      <td>0.1415</td>\n",
       "      <td>0.210</td>\n",
       "      <td>9</td>\n",
       "    </tr>\n",
       "    <tr>\n",
       "      <th>3</th>\n",
       "      <td>F</td>\n",
       "      <td>0.440</td>\n",
       "      <td>0.365</td>\n",
       "      <td>0.125</td>\n",
       "      <td>0.5160</td>\n",
       "      <td>0.2155</td>\n",
       "      <td>0.1140</td>\n",
       "      <td>0.155</td>\n",
       "      <td>10</td>\n",
       "    </tr>\n",
       "    <tr>\n",
       "      <th>4</th>\n",
       "      <td>M</td>\n",
       "      <td>0.330</td>\n",
       "      <td>0.255</td>\n",
       "      <td>0.080</td>\n",
       "      <td>0.2050</td>\n",
       "      <td>0.0895</td>\n",
       "      <td>0.0395</td>\n",
       "      <td>0.055</td>\n",
       "      <td>7</td>\n",
       "    </tr>\n",
       "  </tbody>\n",
       "</table>\n",
       "</div>"
      ],
      "text/plain": [
       "  sex  length  diameter  height  weight.w  weight.s  weight.v  weight.sh  \\\n",
       "0   F   0.455     0.365   0.095    0.5140    0.2245    0.1010      0.150   \n",
       "1   F   0.350     0.265   0.090    0.2255    0.0995    0.0485      0.070   \n",
       "2   M   0.530     0.420   0.135    0.6770    0.2565    0.1415      0.210   \n",
       "3   F   0.440     0.365   0.125    0.5160    0.2155    0.1140      0.155   \n",
       "4   M   0.330     0.255   0.080    0.2050    0.0895    0.0395      0.055   \n",
       "\n",
       "   rings  \n",
       "0     15  \n",
       "1      7  \n",
       "2      9  \n",
       "3     10  \n",
       "4      7  "
      ]
     },
     "execution_count": 181,
     "metadata": {},
     "output_type": "execute_result"
    }
   ],
   "source": [
    "def add_labelnoise(noise_level, seed=None):\n",
    "    np.random.seed(seed) \n",
    "   # train_p = int(noise_level * len(traindf.index))\n",
    "   # validate_p = int(noise_level * len(valdf.index)) \n",
    "   # x = np.random.randint(low = 0, high = len(traindf)-train_p)\n",
    "  #  y = np.random.randint(low = 0, high = len(valdf)-validate_p)\n",
    "   # print(y)\n",
    "    l = int(noise_level*len(df.index))\n",
    "    for i in range(l):\n",
    "        if df['sex'][i]=='M':\n",
    "            df['sex'][i]='F'\n",
    "        elif df['sex'][i]=='F':\n",
    "            df['sex'][i]='M'\n",
    "        elif df['sex'][i]=='I':\n",
    "            df['sex'][i]=str(*np.random.choice(['M','F'], 1))\n",
    "\n",
    "        \n",
    "    #return traindf, valdf\n",
    "\n",
    "#t.head(20)\n",
    "#t['Outcome'][:10]\n",
    "\n",
    "add_labelnoise(0.30)\n",
    "df.head()"
   ]
  },
  {
   "cell_type": "code",
   "execution_count": 183,
   "metadata": {},
   "outputs": [
    {
     "name": "stdout",
     "output_type": "stream",
     "text": [
      "sex\n",
      "F    1381\n",
      "I     900\n",
      "M    1478\n",
      "dtype: int64\n"
     ]
    }
   ],
   "source": [
    "print(df.groupby('sex').size())"
   ]
  },
  {
   "cell_type": "code",
   "execution_count": 184,
   "metadata": {},
   "outputs": [
    {
     "data": {
      "image/png": "[encoded data removed]",
      "text/plain": [
       "<matplotlib.figure.Figure at 0x27b44ccdf60>"
      ]
     },
     "metadata": {},
     "output_type": "display_data"
    },
    {
     "name": "stdout",
     "output_type": "stream",
     "text": [
      "Train set (3007, 9)\n",
      "Test set (418, 9)\n",
      "Validation set (752, 9)\n",
      "sex\n",
      "F    1099\n",
      "I     728\n",
      "M    1180\n",
      "dtype: int64\n"
     ]
    }
   ],
   "source": [
    "#split our data into train and test\n",
    "#traindf, testdf = train_test_split(df, test_size = 0.3)\n",
    "#traindf, valdf, testdf = train_validate_test_split(df, train_percent=.7, validate_percent=.2, seed=None)\n",
    "traindf, valdf = train_test_split(df, test_size = 0.2)\n",
    "labels = 'Train', 'Test', 'Val'\n",
    "plt.pie([70, 10, 20], labels=labels, autopct='%1.1f%%', shadow=True)\n",
    "plt.show()\n",
    "print(\"Train set\", traindf.shape)\n",
    "print(\"Test set\", testdf.shape)\n",
    "print(\"Validation set\", valdf.shape)\n",
    "\n",
    "print(traindf.groupby('sex').size())"
   ]
  },
  {
   "cell_type": "code",
   "execution_count": 185,
   "metadata": {},
   "outputs": [],
   "source": [
    "train_X=traindf[traindf.columns[1:]]\n",
    "val_X=valdf[testdf.columns[1:]]\n",
    "train_Y=traindf['sex']\n",
    "val_Y=valdf['sex']\n",
    "test_X=testdf[testdf.columns[1:]]\n",
    "test_Y=testdf['sex']"
   ]
  },
  {
   "cell_type": "code",
   "execution_count": 187,
   "metadata": {},
   "outputs": [
    {
     "name": "stdout",
     "output_type": "stream",
     "text": [
      "Accuracy : 0.5598086124401914\n",
      "Cross_val score : 0.49355280819498415\n"
     ]
    }
   ],
   "source": [
    "X = train_X\n",
    "y = train_Y\n",
    "clf = LinearSVC(penalty='l1', loss='squared_hinge', dual=False, tol=1e-3, C=1.0,\n",
    "               multi_class='ovr', fit_intercept=True, intercept_scaling=1,\n",
    "               class_weight=None, verbose=0, random_state=None, max_iter=1000)\n",
    "clf.fit(X,y)\n",
    "print(\"Accuracy :\", clf.score(test_X, test_Y))\n",
    "scores = cross_val_score(clf, val_X, val_Y, cv=5, scoring='accuracy')\n",
    "print(\"Cross_val score :\", scores.mean())\n"
   ]
  },
  {
   "cell_type": "code",
   "execution_count": 189,
   "metadata": {},
   "outputs": [
    {
     "name": "stdout",
     "output_type": "stream",
     "text": [
      "Accuracy : 0.5406698564593302\n",
      "Cross_val score : 0.49453314494289413\n"
     ]
    }
   ],
   "source": [
    "clf = LinearSVC(penalty='l2', loss='hinge', dual=True, tol=1e-3, C=1.0,\n",
    "               multi_class='ovr', fit_intercept=True, intercept_scaling=1,\n",
    "               class_weight=None, verbose=0, random_state=None, max_iter=1000)\n",
    "clf.fit(X,y)\n",
    "print(\"Accuracy :\", clf.score(test_X, test_Y))\n",
    "scores = cross_val_score(clf, val_X, val_Y, cv=5, scoring='accuracy')\n",
    "print(\"Cross_val score :\", scores.mean())\n"
   ]
  },
  {
   "cell_type": "code",
   "execution_count": 160,
   "metadata": {},
   "outputs": [
    {
     "name": "stdout",
     "output_type": "stream",
     "text": [
      "Accuracy : 0.44019138755980863\n",
      "Cross_val score : 0.5035942533118429\n"
     ]
    }
   ],
   "source": [
    "clf = SGDClassifier(loss='hinge', penalty='l1', alpha=0.0001, l1_ratio=0.15,\n",
    "                    fit_intercept=True, max_iter=1000, tol=1e-3, shuffle=True,\n",
    "                    verbose=0, epsilon=0.1, n_jobs=1, random_state=None, learning_rate='optimal', eta0=0.0, power_t=0.5, \n",
    "                    class_weight=None, warm_start=False, average=False, n_iter=None)\n",
    "clf.fit(X,y)\n",
    "print(\"Accuracy :\", clf.score(test_X, test_Y))\n",
    "scores = cross_val_score(clf, val_X, val_Y, cv=5, scoring='accuracy')\n",
    "print(\"Cross_val score :\", scores.mean())"
   ]
  },
  {
   "cell_type": "code",
   "execution_count": 173,
   "metadata": {},
   "outputs": [
    {
     "name": "stdout",
     "output_type": "stream",
     "text": [
      "Accuracy : 0.5311004784688995\n",
      "Cross_val score : 0.5330787801095254\n"
     ]
    }
   ],
   "source": [
    "clf = SGDClassifier(loss='squared_hinge', penalty='l1', alpha=0.0001, l1_ratio=0.15,\n",
    "                    fit_intercept=True, max_iter=1000, tol=1e-3, shuffle=True,\n",
    "                    verbose=0, epsilon=0.1, n_jobs=1, random_state=None, learning_rate='optimal', eta0=0.0, power_t=0.5, \n",
    "                    class_weight=None, warm_start=False, average=False, n_iter=None)\n",
    "clf.fit(X,y)\n",
    "print(\"Accuracy :\", clf.score(test_X, test_Y))\n",
    "scores = cross_val_score(clf, val_X, val_Y, cv=5, scoring='accuracy')\n",
    "print(\"Cross_val score :\", scores.mean())"
   ]
  },
  {
   "cell_type": "code",
   "execution_count": 167,
   "metadata": {},
   "outputs": [
    {
     "name": "stdout",
     "output_type": "stream",
     "text": [
      "Accuracy : 0.5119617224880383\n",
      "Cross_val score : 0.5106493621938754\n"
     ]
    }
   ],
   "source": [
    "clf = SGDClassifier(loss='modified_huber', penalty='l1', alpha=0.0001, l1_ratio=0.15,\n",
    "                    fit_intercept=True, max_iter=1000, tol=1e-3, shuffle=True,\n",
    "                    verbose=0, epsilon=0.1, n_jobs=1, random_state=None, learning_rate='optimal', eta0=0.0, power_t=0.5, \n",
    "                    class_weight=None, warm_start=False, average=False, n_iter=None)\n",
    "clf.fit(X,y)\n",
    "print(\"Accuracy :\", clf.score(test_X, test_Y))\n",
    "scores = cross_val_score(clf, val_X, val_Y, cv=5, scoring='accuracy')\n",
    "print(\"Cross_val score :\", scores.mean())"
   ]
  },
  {
   "cell_type": "markdown",
   "metadata": {},
   "source": [
    "## FISTA"
   ]
  },
  {
   "cell_type": "code",
   "execution_count": 156,
   "metadata": {},
   "outputs": [
    {
     "name": "stderr",
     "output_type": "stream",
     "text": [
      "c:\\python35\\lib\\site-packages\\sklearn\\preprocessing\\label.py:151: DeprecationWarning: The truth value of an empty array is ambiguous. Returning False, but in future this will result in an error. Use `array.size > 0` to check that an array is not empty.\n",
      "  if diff:\n"
     ]
    },
    {
     "name": "stdout",
     "output_type": "stream",
     "text": [
      "Accuracy : 0.5478468899521531\n",
      "1.0\n"
     ]
    },
    {
     "name": "stderr",
     "output_type": "stream",
     "text": [
      "c:\\python35\\lib\\site-packages\\sklearn\\preprocessing\\label.py:151: DeprecationWarning: The truth value of an empty array is ambiguous. Returning False, but in future this will result in an error. Use `array.size > 0` to check that an array is not empty.\n",
      "  if diff:\n",
      "c:\\python35\\lib\\site-packages\\sklearn\\preprocessing\\label.py:151: DeprecationWarning: The truth value of an empty array is ambiguous. Returning False, but in future this will result in an error. Use `array.size > 0` to check that an array is not empty.\n",
      "  if diff:\n",
      "c:\\python35\\lib\\site-packages\\sklearn\\preprocessing\\label.py:151: DeprecationWarning: The truth value of an empty array is ambiguous. Returning False, but in future this will result in an error. Use `array.size > 0` to check that an array is not empty.\n",
      "  if diff:\n",
      "c:\\python35\\lib\\site-packages\\sklearn\\preprocessing\\label.py:151: DeprecationWarning: The truth value of an empty array is ambiguous. Returning False, but in future this will result in an error. Use `array.size > 0` to check that an array is not empty.\n",
      "  if diff:\n"
     ]
    },
    {
     "name": "stdout",
     "output_type": "stream",
     "text": [
      "Cross_val score : 0.573063481183959\n"
     ]
    },
    {
     "name": "stderr",
     "output_type": "stream",
     "text": [
      "c:\\python35\\lib\\site-packages\\sklearn\\preprocessing\\label.py:151: DeprecationWarning: The truth value of an empty array is ambiguous. Returning False, but in future this will result in an error. Use `array.size > 0` to check that an array is not empty.\n",
      "  if diff:\n"
     ]
    }
   ],
   "source": [
    "\n",
    "\n",
    "# Set classifier options.\n",
    "clf = FistaClassifier(C=1.0, alpha=1.0, loss='squared_hinge', penalty='l1',\n",
    "                      multiclass=True, max_iter=1000, max_steps=30, eta=2.0,\n",
    "                      sigma=1e-05, callback=None, verbose=0  )\n",
    "\n",
    "# Train the model.\n",
    "clf.fit(X, y)\n",
    "\n",
    "\n",
    "# Accuracy\n",
    "print(\"Accuracy :\", clf.score(test_X, test_Y))\n",
    "\n",
    "# Percentage of selected features\n",
    "print(clf.n_nonzero(percentage=True))\n",
    "\n",
    "scores = cross_val_score(clf, val_X, val_Y, cv=5, scoring='accuracy')\n",
    "print(\"Cross_val score :\", scores.mean())\n"
   ]
  },
  {
   "cell_type": "code",
   "execution_count": null,
   "metadata": {},
   "outputs": [],
   "source": []
  }
 ],
 "metadata": {
  "kernelspec": {
   "display_name": "Python 3",
   "language": "python",
   "name": "python3"
  },
  "language_info": {
   "codemirror_mode": {
    "name": "ipython",
    "version": 3
   },
   "file_extension": ".py",
   "mimetype": "text/x-python",
   "name": "python",
   "nbconvert_exporter": "python",
   "pygments_lexer": "ipython3",
   "version": "3.5.3"
  }
 },
 "nbformat": 4,
 "nbformat_minor": 2
}
